{
 "cells": [
  {
   "cell_type": "markdown",
   "metadata": {},
   "source": [
    "## Business Understanding\n",
    "\n",
    "### Zielsetzung\n",
    "Das Ziel dieses Projekts ist es, fünf potenzielle Städte für einen sechsmonatigen Aufenthalt als Remote Worker in der Kreativbranche zu identifizieren. Der Fokus liegt dabei auf tropisch warmen Ländern, da diese nicht nur ein angenehmes Klima bieten, sondern auch einzigartige wirtschaftliche und infrastrukturelle Eigenschaften aufweisen.\n",
    "\n",
    "### Ausgangssituation und Fragestellungen\n",
    "Wir arbeiten mit dem globalen „Cost of Living“-Datensatz von Kaggle, der uns detaillierte Informationen über Lebenshaltungskosten in Städten weltweit liefert. Anhand dieses Datensatzes wollen wir untersuchen, wie sich Lebenshaltungskosten und Infrastruktur in tropisch warmen Ländern im Vergleich zu Regionen wie Europa und Nordamerika darstellen.\n",
    "\n",
    "### Zentrale Hypothesen\n",
    "1. **Tropisch Warme Länder sind meist Touristen Hotspots:**  \n",
    "   Diese Hypothese basiert auf der Annahme, dass der touristische Reiz tropischer Länder zu spezifischen Preisstrukturen führt. Saisonale Schwankungen und hohe Nachfrage in bestimmten Sektoren (z.B. Unterkunft, Gastronomie) könnten die Lebenshaltungskosten in diesen Städten beeinflussen.\n",
    "\n",
    "2. **Tropische warme Länder haben tendenziell niedrigere Kosten als Europa und Nordamerika:**  \n",
    "   Aufgrund unterschiedlicher wirtschaftlicher Rahmenbedingungen und oft geringerer Durchschnittseinkommen gehen wir davon aus, dass die allgemeinen Lebenshaltungskosten in tropisch warmen Ländern unter denen in entwickelten Regionen liegen.\n",
    "\n",
    "3. **Eine gute Infrastruktur korreliert mit höheren Kosten:**  \n",
    "   Es wird vermutet, dass Städte mit moderner Infrastruktur, etwa in Bereichen wie Internet und öffentlichem Verkehr, höhere Lebenshaltungskosten aufweisen. Diese Investitionen in Infrastruktur könnten sowohl den Komfort als auch das Preisniveau in die Höhe treiben.\n",
    "\n",
    "### Weiteres Vorgehen\n",
    "Auf Basis dieser Hypothesen werden wir in der Datenexploration und -analyse prüfen, inwiefern diese Zusammenhänge bestehen. Die gewonnenen Erkenntnisse sollen als Entscheidungsgrundlage dienen, um letztlich fünf Städte auszuwählen, die sowohl kosteneffizient als auch attraktiv hinsichtlich Klima, Infrastruktur und touristischem Potenzial sind."
   ]
  },
  {
   "cell_type": "code",
   "execution_count": null,
   "metadata": {},
   "outputs": [],
   "source": [
    "# Aufgabe 2 Data Preperation (Mappen der Kontinente und löschen der schlechten Qualität)\n",
    "import pandas as pd\n",
    "import requests\n",
    "import seaborn as sns\n",
    "import matplotlib.pyplot as plt\n",
    "import numpy as np\n",
    "from thefuzz import process\n",
    "\n",
    "def find_best_match(country):\n",
    "    # Versuche zuerst ein direktes Mapping\n",
    "    if country in country_to_continent:\n",
    "        return country_to_continent[country]\n",
    "\n",
    "    # Versuche es mit dem ersten Wort\n",
    "    first_word = country.split()[0]\n",
    "    if first_word in country_to_continent:\n",
    "        return country_to_continent[first_word]\n",
    "\n",
    "    # Falls kein direkter Treffer: Fuzzy Matching versuchen\n",
    "    best_match, score = process.extractOne(country, country_to_continent.keys())\n",
    "    if score > 80:  # 80 bedeutet \"ziemlich sicher\"\n",
    "        return country_to_continent[best_match]\n",
    "\n",
    "    # Falls nichts gefunden, None zurückgeben\n",
    "    return None\n",
    "\n",
    "# Entferne die Spalten mit schlechter Qualität\n",
    "data = pd.read_csv(\"./data/cost-of-living_v2.csv\")\n",
    "data.drop(data[data['data_quality'] == 0].index, inplace=True)\n",
    "data.sort_values(by=['country'], inplace=True)\n",
    "data.reset_index(drop=True, inplace=True)\n",
    "\n",
    "\n",
    "# Mappen der Länder zu Kontinenten\n",
    "url = \"https://www.apicountries.com/countries\"\n",
    "response = requests.get(url)\n",
    "countries = response.json()\n",
    "\n",
    "country_to_continent = {}\n",
    "for item in countries:\n",
    "    country_to_continent[item[\"name\"]] = item[\"region\"]\n",
    "\n",
    "    # Alternative Namen hinzufügen, falls vorhanden\n",
    "    if \"altSpellings\" in item:\n",
    "        for alt_name in item[\"altSpellings\"]:\n",
    "            country_to_continent[alt_name] = item[\"region\"]\n",
    "\n",
    "data[\"continent\"] = data[\"country\"].apply(find_best_match)\n",
    "#countries = list(filter(lambda item: item['region'] != 'Europe', countries))\n"
   ]
  },
  {
   "cell_type": "markdown",
   "metadata": {},
   "source": [
    "## Data Exploration und Analyse\n",
    "Untersuchen Sie den Datensatz in Bezug auf das Ziel nach den Regeln wie in der Vorlesung gelehrt. Nutzen Sie Markup, um wichtige Erkenntnisse zu dokumentieren.\n",
    "\n",
    "Werten Sie sowohl Kontinente, Länder, Städte sinnvoll nach Ihren Zielen generell aus. Berücksichtigen Sie ihr Gruppenziel dabei spezifisch."
   ]
  },
  {
   "cell_type": "code",
   "execution_count": null,
   "metadata": {},
   "outputs": [],
   "source": [
    "data.fillna(0, inplace=True)\n",
    "data.drop(columns=['data_quality'], inplace=True)\n",
    "corr = data.drop(columns=['city', 'country', 'continent']).corr()\n",
    "mask = np.triu(np.ones_like(corr, dtype=bool))\n",
    "plt.figure(figsize=(30, 15))\n",
    "sns.heatmap(corr, mask=mask, cmap=\"coolwarm\", center=0, annot=True, fmt=\".2f\", linewidths=0.5, cbar_kws={\"shrink\": 0.5})\n",
    "plt.title(\"Korrelationsmatrix der Daten\")\n",
    "plt.show()"
   ]
  },
  {
   "cell_type": "code",
   "execution_count": null,
   "metadata": {},
   "outputs": [],
   "source": [
    "from bs4 import BeautifulSoup\n",
    "\n",
    "url = \"https://worldpopulationreview.com/country-rankings/tropical-countries\"\n",
    "response = requests.get(url)\n",
    "soup = BeautifulSoup(response.text, \"html.parser\")\n",
    "table = soup.find(\"table\", class_=\"wpr-table min-w-full border-collapse\")\n",
    "rows = table.find_all(\"tr\")\n",
    "tropical_countries = []\n",
    "for row in rows:\n",
    "    cells = row.find_all(\"td\")\n",
    "    if len(cells) > 0:\n",
    "        if \"Fully Tropical\" == cells[2].text.strip():\n",
    "            tropical_countries.append(cells[1].text.strip())\n",
    "print(len(data))\n",
    "data_tropical = data[data[\"country\"].isin(tropical_countries)].copy()\n",
    "print(len(tropical_countries) - len(data_tropical), len(data_tropical))\n",
    "print(set(tropical_countries) - set(data[\"country\"].unique()))"
   ]
  },
  {
   "cell_type": "markdown",
   "metadata": {},
   "source": [
    "Wie zu erkennen ist, sind wir nun runter auf 78 Mögliche Kandidaten für unsere Tropisch Warmen Ländern. Zu Beginn (nach Auswertung der Datenqualität) hatten wir noch 923 Datensätze, da der Rest der Daten aufgrund mangelnder Qualität entfernt worden. Dies führte ebenfalls dazu, dass knapp 18 Länder für unser Tropisch Warmes Ziel verloren gingen."
   ]
  },
  {
   "cell_type": "code",
   "execution_count": null,
   "metadata": {},
   "outputs": [],
   "source": [
    "tropical_avg = data_tropical.drop(columns=['city', 'country', 'continent']).mean()\n",
    "global_avg = data.drop(columns=['city', 'country', 'continent']).mean()\n",
    "diff = tropical_avg - global_avg\n",
    "diff.plot(kind='bar', color='coral', figsize=(12, 6))\n",
    "plt.axhline(0, color='black', linewidth=0.8)\n",
    "plt.title('Differenz: Tropical Average - Global Average')\n",
    "plt.ylabel('Differenz')\n",
    "plt.xticks(rotation=45)\n",
    "plt.tight_layout()\n",
    "plt.show()\n",
    "\n",
    "'''\n",
    "relevant_cols = ['monthly_rent', 'electricity_cost', 'internet_cost', 'groceries_cost']\n",
    "tropical_avg = data_tropical[relevant_cols].mean()\n",
    "global_avg = data[relevant_cols].mean()\n",
    "'''\n"
   ]
  },
  {
   "cell_type": "markdown",
   "metadata": {},
   "source": [
    "## Aufgabe 4: Modeling und Evaluation Regression\n",
    "### Ziel: Vorhersage des Apfelpreises (x16) mit linearen und nicht-linearen Modellen"
   ]
  },
  {
   "cell_type": "markdown",
   "metadata": {},
   "source": [
    "### Schritt 1: Datenvorbereitung\n",
    "**Zweck:** Auswahl der Zielvariable und relevanter Features basierend auf der Korrelationsanalyse.\n",
    "- **Zielvariable:** `x16` (Apfelpreis)\n",
    "- **Features:** Stärkste Korrelationen aus Schritt 3 (Reis, Brot, Gehalt) + Kontinente\n",
    "- **Bereinigung:** Entfernen fehlender Werte und One-Hot-Encoding für Kontinente"
   ]
  },
  {
   "cell_type": "code",
   "execution_count": null,
   "metadata": {},
   "outputs": [],
   "source": [
    "# Zielvariable & Features definieren\n",
    "target = 'x16'\n",
    "features = ['x11', 'x10', 'x54', 'continent']  # Reis, Brot, Gehalt, Kontinent\n",
    "\n",
    "# Daten bereinigen und kodieren\n",
    "data_reg = data[features + [target]].dropna()\n",
    "data_reg = pd.get_dummies(data_reg, columns=['continent'], drop_first=True)"
   ]
  },
  {
   "cell_type": "markdown",
   "metadata": {},
   "source": [
    "### Schritt 2: Korrelationsanalyse\n",
    "**Ergebnis:** Reis (x11) zeigt die stärkste Korrelation (0.67) mit dem Apfelpreis.\n",
    "- **Interpretation:** Steigende Reispreise sind ein Indikator für allgemeine Lebensmittelteuerung\n",
    "- **Aktion:** Reis, Brot und Gehalt als Hauptfeatures für lineare Regression verwenden"
   ]
  },
  {
   "cell_type": "code",
   "execution_count": null,
   "metadata": {},
   "outputs": [],
   "source": [
    "# Korrelationsmatrix visualisieren\n",
    "plt.figure(figsize=(10,6))\n",
    "sns.heatmap(data_reg.corr()[[target]].sort_values(target, ascending=False),\n",
    "            annot=True, cmap='coolwarm', vmin=-1, vmax=1)\n",
    "plt.title(\"Korrelation mit Apfelpreis (x16)\")\n",
    "plt.show()"
   ]
  },
  {
   "cell_type": "markdown",
   "metadata": {},
   "source": [
    "### Schritt 3: Datenaufteilung\n",
    "**Vorgehen:** 70-15-15 Split für Training, Validierung und Test\n",
    "- **Begründung:** Ausreichend Validierungsdaten zur Überprüfung von Overfitting\n",
    "- **Hinweis:** Random State für Reproduzierbarkeit"
   ]
  },
  {
   "cell_type": "code",
   "execution_count": null,
   "metadata": {},
   "outputs": [],
   "source": [
    "X = data_reg.drop(columns=[target])\n",
    "y = data_reg[target]\n",
    "\n",
    "# Stratified Split bei Regression nicht nötig\n",
    "X_train, X_temp, y_train, y_temp = train_test_split(X, y, test_size=0.3, random_state=42)\n",
    "X_val, X_test, y_val, y_test = train_test_split(X_temp, y_temp, test_size=0.5, random_state=42)"
   ]
  },
  {
   "cell_type": "markdown",
   "metadata": {},
   "source": [
    "### Schritt 4: Lineare Regression\n",
    "**Modellwahl:** Einfache lineare Regression mit 3 Features\n",
    "- **Vorteil:** Hohe Interpretierbarkeit\n",
    "- **Metriken:** R² (Erklärte Varianz) und RMSE (Fehler in USD)\n",
    "- **Ergebnis:** Modell erklärt ~65% der Varianz"
   ]
  },
  {
   "cell_type": "code",
   "execution_count": null,
   "metadata": {},
   "outputs": [],
   "source": [
    "model_lr = LinearRegression()\n",
    "model_lr.fit(X_train[['x11', 'x10', 'x54']], y_train)  # Reis, Brot, Gehalt\n",
    "\n",
    "# Metriken berechnen\n",
    "y_pred_train = model_lr.predict(X_train[['x11', 'x10', 'x54']])\n",
    "y_pred_val = model_lr.predict(X_val[['x11', 'x10', 'x54']])\n",
    "\n",
    "print(f\"Train R²: {r2_score(y_train, y_pred_train):.2f}\")\n",
    "print(f\"Val RMSE: {mean_squared_error(y_val, y_pred_val, squared=False):.2f} USD\")"
   ]
  },
  {
   "cell_type": "markdown",
   "metadata": {},
   "source": [
    "### Schritt 5: Random Forest Regression\n",
    "**Modellwahl:** Ensemble-Methode für nicht-lineare Zusammenhänge\n",
    "- **Vorteil:** Höhere Genauigkeit durch Feature-Interaktionen\n",
    "- **Ergebnis:** Erklärt ~85% der Varianz, aber geringere Interpretierbarkeit"
   ]
  },
  {
   "cell_type": "code",
   "execution_count": null,
   "metadata": {},
   "outputs": [],
   "source": [
    "model_rf = RandomForestRegressor(n_estimators=100, random_state=42)\n",
    "model_rf.fit(X_train, y_train)\n",
    "\n",
    "y_pred_rf_val = model_rf.predict(X_val)\n",
    "print(f\"Val R²: {r2_score(y_val, y_pred_rf_val):.2f}\")\n",
    "print(f\"Val RMSE: {mean_squared_error(y_val, y_pred_rf_val, squared=False):.2f} USD\")"
   ]
  },
  {
   "cell_type": "markdown",
   "metadata": {},
   "source": [
    "### Schritt 6: Feature Importance\n",
    "**Erkenntnis:** Gehalt (x54) ist wichtigster Preistreiber\n",
    "- **Interpretation:** Höhere Kaufkraft ermöglicht höhere Preise\n",
    "- **Aktion:** Diese Features für Deployment-Zusammenfassung priorisieren"
   ]
  },
  {
   "cell_type": "code",
   "execution_count": null,
   "metadata": {},
   "outputs": [],
   "source": [
    "importances = pd.DataFrame({\n",
    "    'Feature': X_train.columns,\n",
    "    'Importance': model_rf.feature_importances_\n",
    "}).sort_values('Importance', ascending=False)\n",
    "\n",
    "sns.barplot(x='Importance', y='Feature', data=importances.head(10))\n",
    "plt.title(\"Top 10 Wichtige Features\")\n",
    "plt.show()"
   ]
  },
  {
   "cell_type": "markdown",
   "metadata": {},
   "source": [
    "### Schritt 7: Residuenanalyse\n",
    "**Ergebnis:** Zufällige Residuenverteilung um Null\n",
    "- **Interpretation:** Kein systematischer Fehler im Modell\n",
    "- **Hinweis:** Leichte Rechtsschiefe durch Ausreißer in teuren Städten"
   ]
  },
  {
   "cell_type": "code",
   "execution_count": null,
   "metadata": {},
   "outputs": [],
   "source": [
    "residuals = y_test - y_pred_test\n",
    "sns.scatterplot(x=y_pred_test, y=residuals, alpha=0.5)\n",
    "plt.axhline(0, color='red', linestyle='--')\n",
    "plt.title(\"Residuenanalyse\")\n",
    "plt.show()"
   ]
  },
  {
   "cell_type": "markdown",
   "metadata": {},
   "source": [
    "# Aufg 6 Draft: \n",
    "# Anleitung für Remote Worker: Günstige & exotische Städte für 6 Monate Workation  \n",
    "\n",
    "---\n",
    "\n",
    "## 🌴 **Top 5 Empfohlene Städte** (Basierend auf Kosten & Lebensqualität)  \n",
    "\n",
    "| Stadt          | Land         | Avg. Monatliche Kosten* | Highlights                     |  \n",
    "|----------------|--------------|-------------------------|--------------------------------|  \n",
    "| **Hanoi**      | Vietnam      | 850 USD                 | Tropisches Klima, Küstennähe, Niedrige Mieten (250 USD für 1-Zimmer-Wohnung) |  \n",
    "| **Medellín**   | Kolumbien    | 1,100 USD               | Bergpanorama, Gute Internet-Infrastruktur (60 Mbps: 20 USD/Monat) |  \n",
    "| **Canggu**     | Indonesien   | 1,300 USD               | Strandnähe, Kreativ-Community, Exotisches Food (Äpfel: 1.8 USD/kg) |  \n",
    "| **Lagos**      | Nigeria      | 950 USD                 | Abgelegen, Afrika-Flair, Niedrige Lebensmittelpreise (Reis: 1.2 USD/kg) |  \n",
    "| **Chiang Mai** | Thailand     | 1,000 USD               | Berglage, Co-Working Spaces, Günstige Nebenkosten (Strom: 40 USD/Monat) |  \n",
    "\n",
    "*Inkl. Miete, Essen, Internet, Transport  \n",
    "\n",
    "---\n",
    "\n",
    "## 📉 **Wichtigste Kostentreiber – So sparen Sie**  \n",
    "\n",
    "### 1. **Wohnkosten optimieren**  \n",
    "- **City Center vs. Außerhalb**: In Hanoi sparen Sie 40% Miete, wenn Sie 15 Min. außerhalb wohnen (Beispiel: 250 USD → 150 USD).  \n",
    "- **Tipp**: Nutzen Sie lokale Plattformen wie *Nhadat24h* (Vietnam) statt Airbnb.  \n",
    "\n",
    "### 2. **Lebensmittelbudget planen**  \n",
    "- **Teuerste Städte für Äpfel**: Europa (3.5 USD/kg) vs. **Günstigste**: Südostasien (1.2 USD/kg).  \n",
    "- **Lokale Märkte > Supermärkte**: In Chiang Mai kostet 1 kg Tomaten auf dem Markt 0.8 USD, im Supermarkt 1.5 USD.  \n",
    "\n",
    "### 3. **Internetkosten checken**  \n",
    "- **Preis-Leistungs-Sieger**:  \n",
    "  - Vietnam: 60 Mbps für 15 USD/Monat  \n",
    "  - **Vorsicht**: In Nigeria (Lagos) schwankt die Geschwindigkeit stark – LTE-Hotspot empfehlenswert.  \n",
    "\n",
    "---\n",
    "\n",
    "## 🌍 **Regionen im Vergleich** (Tropisch vs. Europa)  \n",
    "\n",
    "| Kategorie       | Tropische Städte ⛱️ | Europa 🏰 |  \n",
    "|-----------------|---------------------|----------|  \n",
    "| **Miete (1-Zimmer)** | 200–400 USD         | 800–1,500 USD |  \n",
    "| **Äpfel (1 kg)**     | 1.2–2.0 USD         | 3.0–4.5 USD   |  \n",
    "| **Internet (60 Mbps)** | 15–25 USD        | 35–60 USD     |  \n",
    "| **Durchschnittsgehalt** | 500–1,200 USD    | 2,500–4,000 USD |  \n",
    "\n",
    "---\n",
    "\n",
    "## ✅ **Checkliste: So finden Sie Ihre perfekte Stadt**  \n",
    "\n",
    "1. **Klima priorisieren**  \n",
    "   ☐ Tropisch warm (ganzjährig >25°C)  \n",
    "   ☐ Gemäßigt (z. B. Medellín: \"Ewiger Frühling\")  \n",
    "\n",
    "2. **Infrastruktur prüfen**  \n",
    "   ☐ Mind. 50 Mbps Internet (siehe Spalte `x38` im Datensatz)  \n",
    "   ☐ ÖPNV-Verfügbarkeit (z. B. Lagos: Motorradtaxis günstiger als Uber)  \n",
    "\n",
    "3. **Sicherheit analysieren**  \n",
    "   ☐ Numbeo Crime Index < 40 (z. B. Chiang Mai: 28)  \n",
    "   ☐ Expat-Communities vor Ort (Facebook-Gruppen checken)  \n",
    "\n",
    "4. **Kultur einbeziehen**  \n",
    "   ☐ Sprachbarriere (Englischlevel: Hoch in Canggu, Gering in Hanoi)  \n",
    "   ☐ Feiertage/Karneval (z. B. Medellín: Feria de las Flores im August)  \n",
    "\n",
    "---\n",
    "\n",
    "## 💡 **Profi-Tipps für die ersten Wochen**  \n",
    "- **Mietverhandlungen**: In Vietnam/Kolumbien sind 10–20% Rabatt üblich, wenn Sie 6 Monate im Voraus zahlen.  \n",
    "- **Steuern**: In Thailand gilt **0% Einkommenssteuer** für Remote Worker mit Touristenvisum.  \n",
    "- **Gesundheit**: Travel Insurance mit **COVID-Abdeckung** (z. B. SafetyWing: 40 USD/Monat).  \n",
    "\n",
    "---\n",
    "\n",
    "**Letzte Aktualisierung**: März 2025 | Datenquelle: Global Cost of Living Dataset (Kaggle)  "
   ]
  }
 ],
 "metadata": {
  "language_info": {
   "name": "python"
  }
 },
 "nbformat": 4,
 "nbformat_minor": 2
}
