{
 "cells": [
  {
   "cell_type": "markdown",
   "metadata": {},
   "source": [
    "## Business Understanding\n",
    "\n",
    "### Zielsetzung\n",
    "Das Ziel dieses Projekts ist es, fünf potenzielle Städte für einen sechsmonatigen Aufenthalt als Remote Worker in der Kreativbranche zu identifizieren. Der Fokus liegt dabei auf tropisch warmen Ländern, da diese nicht nur ein angenehmes Klima bieten, sondern auch einzigartige wirtschaftliche und infrastrukturelle Eigenschaften aufweisen.\n",
    "\n",
    "### Ausgangssituation und Fragestellungen\n",
    "Wir arbeiten mit dem globalen „Cost of Living“-Datensatz von Kaggle, der uns detaillierte Informationen über Lebenshaltungskosten in Städten weltweit liefert. Anhand dieses Datensatzes wollen wir untersuchen, wie sich Lebenshaltungskosten und Infrastruktur in tropisch warmen Ländern im Vergleich zu Regionen wie Europa und Nordamerika darstellen.\n",
    "\n",
    "### Zentrale Hypothesen\n",
    "1. **Tropisch Warme Länder sind meist Touristen Hotspots:**  \n",
    "   Diese Hypothese basiert auf der Annahme, dass der touristische Reiz tropischer Länder zu spezifischen Preisstrukturen führt. Saisonale Schwankungen und hohe Nachfrage in bestimmten Sektoren (z.B. Unterkunft, Gastronomie) könnten die Lebenshaltungskosten in diesen Städten beeinflussen.\n",
    "\n",
    "2. **Tropische warme Länder haben tendenziell niedrigere Kosten als Europa und Nordamerika:**  \n",
    "   Aufgrund unterschiedlicher wirtschaftlicher Rahmenbedingungen und oft geringerer Durchschnittseinkommen gehen wir davon aus, dass die allgemeinen Lebenshaltungskosten in tropisch warmen Ländern unter denen in entwickelten Regionen liegen.\n",
    "\n",
    "3. **Eine gute Infrastruktur korreliert mit höheren Kosten:**  \n",
    "   Es wird vermutet, dass Städte mit moderner Infrastruktur, etwa in Bereichen wie Internet und öffentlichem Verkehr, höhere Lebenshaltungskosten aufweisen. Diese Investitionen in Infrastruktur könnten sowohl den Komfort als auch das Preisniveau in die Höhe treiben.\n",
    "\n",
    "### Weiteres Vorgehen\n",
    "Auf Basis dieser Hypothesen werden wir in der Datenexploration und -analyse prüfen, inwiefern diese Zusammenhänge bestehen. Die gewonnenen Erkenntnisse sollen als Entscheidungsgrundlage dienen, um letztlich fünf Städte auszuwählen, die sowohl kosteneffizient als auch attraktiv hinsichtlich Klima, Infrastruktur und touristischem Potenzial sind."
   ]
  },
  {
   "cell_type": "code",
   "execution_count": 72,
   "metadata": {},
   "outputs": [],
   "source": [
    "# Aufgabe 2 Data Preperation (Mappen der Kontinente und löschen der schlechten Qualität)\n",
    "import pandas as pd\n",
    "import requests\n",
    "from thefuzz import process\n",
    "\n",
    "def find_best_match(country):\n",
    "    # Versuche zuerst ein direktes Mapping\n",
    "    if country in country_to_continent:\n",
    "        return country_to_continent[country]\n",
    "\n",
    "    # Versuche es mit dem ersten Wort\n",
    "    first_word = country.split()[0]\n",
    "    if first_word in country_to_continent:\n",
    "        return country_to_continent[first_word]\n",
    "\n",
    "    # Falls kein direkter Treffer: Fuzzy Matching versuchen\n",
    "    best_match, score = process.extractOne(country, country_to_continent.keys())\n",
    "    if score > 80:  # 80 bedeutet \"ziemlich sicher\"\n",
    "        return country_to_continent[best_match]\n",
    "\n",
    "    # Falls nichts gefunden, None zurückgeben\n",
    "    return None\n",
    "\n",
    "# Entferne die Spalten mit schlechter Qualität\n",
    "data = pd.read_csv(\"./data/cost-of-living_v2.csv\")\n",
    "data.drop(data[data['data_quality'] == 0].index, inplace=True)\n",
    "data.sort_values(by=['country'], inplace=True)\n",
    "data.reset_index(drop=True, inplace=True)\n",
    "\n",
    "\n",
    "# Mappen der Länder zu Kontinenten\n",
    "url = \"https://www.apicountries.com/countries\"\n",
    "response = requests.get(url)\n",
    "countries = response.json()\n",
    "\n",
    "country_to_continent = {}\n",
    "for item in countries:\n",
    "    country_to_continent[item[\"name\"]] = item[\"region\"]\n",
    "\n",
    "    # Alternative Namen hinzufügen, falls vorhanden\n",
    "    if \"altSpellings\" in item:\n",
    "        for alt_name in item[\"altSpellings\"]:\n",
    "            country_to_continent[alt_name] = item[\"region\"]\n",
    "\n",
    "data[\"continent\"] = data[\"country\"].apply(find_best_match)\n",
    "#countries = list(filter(lambda item: item['region'] != 'Europe', countries))\n"
   ]
  }
 ],
 "metadata": {
  "kernelspec": {
   "display_name": ".venv",
   "language": "python",
   "name": "python3"
  },
  "language_info": {
   "codemirror_mode": {
    "name": "ipython",
    "version": 3
   },
   "file_extension": ".py",
   "mimetype": "text/x-python",
   "name": "python",
   "nbconvert_exporter": "python",
   "pygments_lexer": "ipython3",
   "version": "3.12.2"
  }
 },
 "nbformat": 4,
 "nbformat_minor": 2
}
